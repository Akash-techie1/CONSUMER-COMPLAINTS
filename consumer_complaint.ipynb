{
 "cells": [
  {
   "cell_type": "code",
   "execution_count": 1,
   "metadata": {
    "colab": {
     "base_uri": "https://localhost:8080/"
    },
    "executionInfo": {
     "elapsed": 7437,
     "status": "ok",
     "timestamp": 1749633761360,
     "user": {
      "displayName": "Akash M",
      "userId": "11187672682538170298"
     },
     "user_tz": -330
    },
    "id": "zo0xozNRTBjH",
    "outputId": "429c8847-d3cf-4aa7-8c2e-ca82326a9273"
   },
   "outputs": [
    {
     "name": "stderr",
     "output_type": "stream",
     "text": [
      "[nltk_data] Downloading package stopwords to /root/nltk_data...\n",
      "[nltk_data]   Unzipping corpora/stopwords.zip.\n",
      "[nltk_data] Downloading package wordnet to /root/nltk_data...\n",
      "[nltk_data] Downloading package omw-1.4 to /root/nltk_data...\n"
     ]
    },
    {
     "data": {
      "text/plain": [
       "True"
      ]
     },
     "execution_count": 1,
     "metadata": {},
     "output_type": "execute_result"
    }
   ],
   "source": [
    "import pandas as pd\n",
    "import numpy as np\n",
    "import matplotlib.pyplot as plt\n",
    "import seaborn as sns\n",
    "from sklearn.model_selection import train_test_split\n",
    "from sklearn.feature_extraction.text import TfidfVectorizer\n",
    "from sklearn.naive_bayes import MultinomialNB\n",
    "from sklearn.linear_model import LogisticRegression\n",
    "from sklearn.svm import LinearSVC\n",
    "from sklearn.ensemble import RandomForestClassifier\n",
    "from sklearn.metrics import classification_report, confusion_matrix, accuracy_score\n",
    "from sklearn.model_selection import cross_val_score\n",
    "import nltk\n",
    "from nltk.corpus import stopwords\n",
    "from nltk.stem import WordNetLemmatizer\n",
    "import string\n",
    "import re\n",
    "\n",
    "# Download NLTK resources\n",
    "nltk.download('stopwords')\n",
    "nltk.download('wordnet')\n",
    "nltk.download('omw-1.4')\n"
   ]
  },
  {
   "cell_type": "code",
   "execution_count": 2,
   "metadata": {
    "colab": {
     "base_uri": "https://localhost:8080/"
    },
    "executionInfo": {
     "elapsed": 23730,
     "status": "ok",
     "timestamp": 1749633785121,
     "user": {
      "displayName": "Akash M",
      "userId": "11187672682538170298"
     },
     "user_tz": -330
    },
    "id": "XveyQ9KoTD6Q",
    "outputId": "b5e75976-1ea3-46e4-ad42-a944b4d3f534"
   },
   "outputs": [
    {
     "name": "stdout",
     "output_type": "stream",
     "text": [
      "Mounted at /content/drive\n"
     ]
    }
   ],
   "source": [
    "from google.colab import drive\n",
    "drive.mount('/content/drive')\n"
   ]
  },
  {
   "cell_type": "code",
   "execution_count": 3,
   "metadata": {
    "colab": {
     "base_uri": "https://localhost:8080/"
    },
    "executionInfo": {
     "elapsed": 171730,
     "status": "ok",
     "timestamp": 1749633966213,
     "user": {
      "displayName": "Akash M",
      "userId": "11187672682538170298"
     },
     "user_tz": -330
    },
    "id": "ht6vAPDPTHDO",
    "outputId": "78fb70a9-1df7-40ca-d837-82a1c9c8766a"
   },
   "outputs": [
    {
     "name": "stderr",
     "output_type": "stream",
     "text": [
      "<ipython-input-3-900057001>:2: DtypeWarning: Columns (16) have mixed types. Specify dtype option on import or set low_memory=False.\n",
      "  df = pd.read_csv('/content/drive/MyDrive/complaints.csv')\n"
     ]
    }
   ],
   "source": [
    "import pandas as pd\n",
    "df = pd.read_csv('/content/drive/MyDrive/complaints.csv')\n"
   ]
  },
  {
   "cell_type": "code",
   "execution_count": 4,
   "metadata": {
    "colab": {
     "base_uri": "https://localhost:8080/",
     "height": 1000
    },
    "executionInfo": {
     "elapsed": 17835,
     "status": "ok",
     "timestamp": 1749633998992,
     "user": {
      "displayName": "Akash M",
      "userId": "11187672682538170298"
     },
     "user_tz": -330
    },
    "id": "Wyd0BcpOTQBp",
    "outputId": "d8d4e04b-3974-4a13-f64e-448052b07978"
   },
   "outputs": [
    {
     "name": "stdout",
     "output_type": "stream",
     "text": [
      "  Date received                                            Product  \\\n",
      "0    2025-06-09  Credit reporting or other personal consumer re...   \n",
      "1    2025-06-09  Credit reporting or other personal consumer re...   \n",
      "2    2025-06-09  Credit reporting or other personal consumer re...   \n",
      "3    2025-06-09  Credit reporting or other personal consumer re...   \n",
      "4    2025-06-09  Credit reporting or other personal consumer re...   \n",
      "\n",
      "        Sub-product                                              Issue  \\\n",
      "0  Credit reporting               Incorrect information on your report   \n",
      "1  Credit reporting               Incorrect information on your report   \n",
      "2  Credit reporting  Problem with a company's investigation into an...   \n",
      "3  Credit reporting               Incorrect information on your report   \n",
      "4  Credit reporting               Incorrect information on your report   \n",
      "\n",
      "                                           Sub-issue  \\\n",
      "0                Information belongs to someone else   \n",
      "1                Information belongs to someone else   \n",
      "2  Their investigation did not fix an error on yo...   \n",
      "3                Information belongs to someone else   \n",
      "4                Information belongs to someone else   \n",
      "\n",
      "  Consumer complaint narrative Company public response        Company State  \\\n",
      "0                          NaN                     NaN  EQUIFAX, INC.    NC   \n",
      "1                          NaN                     NaN  EQUIFAX, INC.    TX   \n",
      "2                          NaN                     NaN  EQUIFAX, INC.    FL   \n",
      "3                          NaN                     NaN  EQUIFAX, INC.    FL   \n",
      "4                          NaN                     NaN  EQUIFAX, INC.    FL   \n",
      "\n",
      "  ZIP code Tags Consumer consent provided? Submitted via Date sent to company  \\\n",
      "0    27613  NaN                        NaN           Web           2025-06-09   \n",
      "1    77306  NaN                        NaN           Web           2025-06-09   \n",
      "2    34116  NaN                        NaN           Web           2025-06-09   \n",
      "3    33897  NaN                        NaN           Web           2025-06-09   \n",
      "4    33315  NaN                        NaN           Web           2025-06-09   \n",
      "\n",
      "  Company response to consumer Timely response? Consumer disputed?  \\\n",
      "0                  In progress              Yes                NaN   \n",
      "1                  In progress              Yes                NaN   \n",
      "2                  In progress              Yes                NaN   \n",
      "3                  In progress              Yes                NaN   \n",
      "4                  In progress              Yes                NaN   \n",
      "\n",
      "   Complaint ID  \n",
      "0      13964976  \n",
      "1      13964977  \n",
      "2      13964981  \n",
      "3      13964982  \n",
      "4      13964983  \n",
      "<class 'pandas.core.frame.DataFrame'>\n",
      "RangeIndex: 9420854 entries, 0 to 9420853\n",
      "Data columns (total 18 columns):\n",
      " #   Column                        Dtype \n",
      "---  ------                        ----- \n",
      " 0   Date received                 object\n",
      " 1   Product                       object\n",
      " 2   Sub-product                   object\n",
      " 3   Issue                         object\n",
      " 4   Sub-issue                     object\n",
      " 5   Consumer complaint narrative  object\n",
      " 6   Company public response       object\n",
      " 7   Company                       object\n",
      " 8   State                         object\n",
      " 9   ZIP code                      object\n",
      " 10  Tags                          object\n",
      " 11  Consumer consent provided?    object\n",
      " 12  Submitted via                 object\n",
      " 13  Date sent to company          object\n",
      " 14  Company response to consumer  object\n",
      " 15  Timely response?              object\n",
      " 16  Consumer disputed?            object\n",
      " 17  Complaint ID                  int64 \n",
      "dtypes: int64(1), object(17)\n",
      "memory usage: 1.3+ GB\n",
      "None\n",
      "       Complaint ID\n",
      "count  9.420854e+06\n",
      "mean   7.971766e+06\n",
      "std    3.713766e+06\n",
      "min    1.000000e+00\n",
      "25%    4.930948e+06\n",
      "50%    8.333924e+06\n",
      "75%    1.112950e+07\n",
      "max    1.398625e+07\n",
      "Date received                         0\n",
      "Product                               0\n",
      "Sub-product                      235295\n",
      "Issue                                 6\n",
      "Sub-issue                        837306\n",
      "Consumer complaint narrative    6482799\n",
      "Company public response         4675402\n",
      "Company                               0\n",
      "State                             54292\n",
      "ZIP code                          30228\n",
      "Tags                            8797038\n",
      "Consumer consent provided?      1622090\n",
      "Submitted via                         0\n",
      "Date sent to company                  0\n",
      "Company response to consumer         20\n",
      "Timely response?                      0\n",
      "Consumer disputed?              8652554\n",
      "Complaint ID                          0\n",
      "dtype: int64\n"
     ]
    },
    {
     "data": {
      "image/png": "[encoded data removed]",
      "text/plain": [
       "<Figure size 800x600 with 1 Axes>"
      ]
     },
     "metadata": {},
     "output_type": "display_data"
    },
    {
     "data": {
      "image/png": "[encoded data removed]",
      "text/plain": [
       "<Figure size 800x600 with 1 Axes>"
      ]
     },
     "metadata": {},
     "output_type": "display_data"
    }
   ],
   "source": [
    "\n",
    "print(df.head())\n",
    "print(df.info())\n",
    "print(df.describe())\n",
    "\n",
    "print(df.isnull().sum())\n",
    "\n",
    "df = df[['Product', 'Consumer complaint narrative']].dropna()\n",
    "\n",
    "product_mapping = {\n",
    "    'Credit reporting, credit repair services, or other personal consumer reports': 0,\n",
    "    'Debt collection': 1,\n",
    "    'Consumer Loan': 2,\n",
    "    'Student loan': 2,\n",
    "    'Payday loan': 2,\n",
    "    'Vehicle loan or lease': 2,\n",
    "    'Mortgage': 3\n",
    "}\n",
    "\n",
    "df = df[df['Product'].isin(product_mapping.keys())]\n",
    "df['category'] = df['Product'].map(product_mapping)\n",
    "\n",
    "# Check class distribution\n",
    "plt.figure(figsize=(8,6))\n",
    "sns.countplot(x='category', data=df)\n",
    "plt.title('Class Distribution')\n",
    "plt.show()\n",
    "\n",
    "df['text_length'] = df['Consumer complaint narrative'].apply(len)\n",
    "plt.figure(figsize=(8,6))\n",
    "sns.boxplot(x='category', y='text_length', data=df)\n",
    "plt.title('Text Length by Category')\n",
    "plt.show()"
   ]
  },
  {
   "cell_type": "code",
   "execution_count": 5,
   "metadata": {
    "colab": {
     "base_uri": "https://localhost:8080/"
    },
    "executionInfo": {
     "elapsed": 772931,
     "status": "ok",
     "timestamp": 1749634787983,
     "user": {
      "displayName": "Akash M",
      "userId": "11187672682538170298"
     },
     "user_tz": -330
    },
    "id": "oEp9a0vpT_Z6",
    "outputId": "1aed65af-a374-413e-95cb-b94f820882ad"
   },
   "outputs": [
    {
     "name": "stdout",
     "output_type": "stream",
     "text": [
      "197     purchased home illinois move louisiana via rea...\n",
      "237     ive complained procollect false debt continuin...\n",
      "240     credit collection obtained access consumer cre...\n",
      "1844    first never received email official notificati...\n",
      "3124    served appear court either garnishment receive...\n",
      "Name: cleaned_text, dtype: object\n"
     ]
    }
   ],
   "source": [
    "\n",
    "lemmatizer = WordNetLemmatizer()\n",
    "stop_words = set(stopwords.words('english'))\n",
    "\n",
    "def clean_text(text):\n",
    "    text = text.lower()\n",
    "\n",
    "    text = ''.join([char for char in text if char not in string.punctuation])\n",
    "\n",
    "    text = re.sub(r'\\d+', '', text)\n",
    "\n",
    "    words = text.split()\n",
    "\n",
    "    words = [lemmatizer.lemmatize(word) for word in words if word not in stop_words]\n",
    "\n",
    "    return ' '.join(words)\n",
    "\n",
    "df['cleaned_text'] = df['Consumer complaint narrative'].apply(clean_text)\n",
    "print(df['cleaned_text'].head())"
   ]
  },
  {
   "cell_type": "code",
   "execution_count": 6,
   "metadata": {
    "executionInfo": {
     "elapsed": 297339,
     "status": "ok",
     "timestamp": 1749635231182,
     "user": {
      "displayName": "Akash M",
      "userId": "11187672682538170298"
     },
     "user_tz": -330
    },
    "id": "BnTqCWSaUHRF"
   },
   "outputs": [],
   "source": [
    "\n",
    "X = df['cleaned_text']\n",
    "y = df['category']\n",
    "X_train, X_test, y_train, y_test = train_test_split(X, y, test_size=0.2, random_state=42)\n",
    "\n",
    "tfidf = TfidfVectorizer(max_features=5000, ngram_range=(1,2))\n",
    "X_train_tfidf = tfidf.fit_transform(X_train)\n",
    "X_test_tfidf = tfidf.transform(X_test)"
   ]
  },
  {
   "cell_type": "code",
   "execution_count": null,
   "metadata": {
    "colab": {
     "base_uri": "https://localhost:8080/"
    },
    "id": "j_fv_cxpUHY_",
    "outputId": "06404968-05b3-49ad-a542-e62c48284060"
   },
   "outputs": [
    {
     "name": "stdout",
     "output_type": "stream",
     "text": [
      "Naive Bayes Classification Report:\n",
      "              precision    recall  f1-score   support\n",
      "\n",
      "           0       0.91      0.87      0.89    161574\n",
      "           1       0.78      0.77      0.78     66403\n",
      "           2       0.65      0.79      0.71     20547\n",
      "           3       0.83      0.94      0.88     25955\n",
      "\n",
      "    accuracy                           0.85    274479\n",
      "   macro avg       0.79      0.84      0.82    274479\n",
      "weighted avg       0.85      0.85      0.85    274479\n",
      "\n",
      "Confusion Matrix:\n",
      "[[140978  12375   5647   2574]\n",
      " [ 10880  51229   2720   1574]\n",
      " [  1765   1576  16247    959]\n",
      " [   579    500    406  24470]]\n",
      "\n",
      "\n",
      "Logistic Regression Classification Report:\n",
      "              precision    recall  f1-score   support\n",
      "\n",
      "           0       0.91      0.94      0.93    161574\n",
      "           1       0.86      0.81      0.83     66403\n",
      "           2       0.82      0.77      0.80     20547\n",
      "           3       0.92      0.92      0.92     25955\n",
      "\n",
      "    accuracy                           0.90    274479\n",
      "   macro avg       0.88      0.86      0.87    274479\n",
      "weighted avg       0.89      0.90      0.89    274479\n",
      "\n",
      "Confusion Matrix:\n",
      "[[151958   6901   1680   1035]\n",
      " [ 10434  53981   1305    683]\n",
      " [  2625   1645  15912    365]\n",
      " [  1200    548    398  23809]]\n",
      "\n",
      "\n",
      "SVM Classification Report:\n",
      "              precision    recall  f1-score   support\n",
      "\n",
      "           0       0.91      0.94      0.93    161574\n",
      "           1       0.86      0.81      0.84     66403\n",
      "           2       0.83      0.77      0.80     20547\n",
      "           3       0.91      0.92      0.92     25955\n",
      "\n",
      "    accuracy                           0.90    274479\n",
      "   macro avg       0.88      0.86      0.87    274479\n",
      "weighted avg       0.89      0.90      0.89    274479\n",
      "\n",
      "Confusion Matrix:\n",
      "[[152114   6624   1692   1144]\n",
      " [ 10454  53933   1270    746]\n",
      " [  2624   1712  15853    358]\n",
      " [  1113    499    352  23991]]\n",
      "\n",
      "\n"
     ]
    }
   ],
   "source": [
    "\n",
    "models = {\n",
    "    'Naive Bayes': MultinomialNB(),\n",
    "    'Logistic Regression': LogisticRegression(max_iter=1000),\n",
    "    'SVM': LinearSVC(),\n",
    "    'Random Forest': RandomForestClassifier()\n",
    "}\n",
    "\n",
    "\n",
    "results = {}\n",
    "for name, model in models.items():\n",
    "    model.fit(X_train_tfidf, y_train)\n",
    "    y_pred = model.predict(X_test_tfidf)\n",
    "    accuracy = accuracy_score(y_test, y_pred)\n",
    "    results[name] = accuracy\n",
    "    print(f\"{name} Classification Report:\")\n",
    "    print(classification_report(y_test, y_pred))\n",
    "    print(\"Confusion Matrix:\")\n",
    "    print(confusion_matrix(y_test, y_pred))\n",
    "    print(\"\\n\")\n",
    "\n",
    "plt.figure(figsize=(10,6))\n",
    "plt.bar(results.keys(), results.values())\n",
    "plt.title('Model Comparison - Accuracy')\n",
    "plt.ylabel('Accuracy')\n",
    "plt.ylim(0.7, 1.0)\n",
    "plt.show()"
   ]
  },
  {
   "cell_type": "code",
   "execution_count": null,
   "metadata": {
    "id": "WpYok1L0UHd1"
   },
   "outputs": [],
   "source": [
    "\n",
    "best_model = LinearSVC()\n",
    "cv_scores = cross_val_score(best_model, X_train_tfidf, y_train , cv=5)\n",
    "print(f\"Cross-validation scores: {cv_scores}\")\n",
    "print(f\"Mean CV accuracy: {np.mean(cv_scores):.4f}\")\n",
    "\n",
    "best_model.fit(X_train_tfidf, y_train)"
   ]
  },
  {
   "cell_type": "code",
   "execution_count": null,
   "metadata": {
    "executionInfo": {
     "elapsed": 0,
     "status": "aborted",
     "timestamp": 1749641297471,
     "user": {
      "displayName": "Akash M",
      "userId": "11187672682538170298"
     },
     "user_tz": -330
    },
    "id": "hvX2_1f8UHgh"
   },
   "outputs": [],
   "source": [
    "\n",
    "def predict_complaint(text):\n",
    "    cleaned_text = clean_text(text)\n",
    "    text_tfidf = tfidf.transform([cleaned_text])\n",
    "    prediction = best_model.predict(text_tfidf)[0]\n",
    "\n",
    "    category_map = {\n",
    "        0: 'Credit reporting, repair, or other',\n",
    "        1: 'Debt collection',\n",
    "        2: 'Consumer Loan',\n",
    "        3: 'Mortgage'\n",
    "    }\n",
    "\n",
    "    return category_map[prediction]\n",
    "\n",
    "# Example prediction\n",
    "sample_complaint = \"\"\"\n",
    "I've been receiving calls from a debt collector about a credit card debt\n",
    "that I don't recognize. They're calling multiple times a day.\n",
    "\"\"\"\n",
    "print(f\"Predicted category: {predict_complaint(sample_complaint)}\")"
   ]
  },
  {
   "cell_type": "code",
   "execution_count": null,
   "metadata": {
    "id": "OxSm2kpuUHjw"
   },
   "outputs": [],
   "source": []
  }
 ],
 "metadata": {
  "colab": {
   "authorship_tag": "ABX9TyPmZ8rX/h+Lj1NKIjBEDKwz",
   "provenance": []
  },
  "kernelspec": {
   "display_name": "Python 3",
   "name": "python3"
  },
  "language_info": {
   "name": "python"
  }
 },
 "nbformat": 4,
 "nbformat_minor": 0
}
